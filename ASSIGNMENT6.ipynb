{
 "cells": [
  {
   "cell_type": "markdown",
   "id": "d459676b-5d75-4d3b-9434-886ed658bf2b",
   "metadata": {},
   "source": [
    "# Q.1. What are keywords in python? Using the keyword library, print all the python keywords."
   ]
  },
  {
   "cell_type": "markdown",
   "id": "a4fb532b-d7f0-45ed-94b3-8dfe6d807f07",
   "metadata": {},
   "source": [
    "Ans: Keywords in Python are reserved words that cannot be used as ordinary identifiers. They are used to define the syntax and structure of the Python language. Keywords are immutable and case-sensitive.You can get the list of all keywords in Python by using the following code:"
   ]
  },
  {
   "cell_type": "code",
   "execution_count": 2,
   "id": "20a7b6b7-b2ee-453c-8613-8f94ef572d7c",
   "metadata": {},
   "outputs": [
    {
     "name": "stdout",
     "output_type": "stream",
     "text": [
      "['False', 'None', 'True', 'and', 'as', 'assert', 'async', 'await', 'break', 'class', 'continue', 'def', 'del', 'elif', 'else', 'except', 'finally', 'for', 'from', 'global', 'if', 'import', 'in', 'is', 'lambda', 'nonlocal', 'not', 'or', 'pass', 'raise', 'return', 'try', 'while', 'with', 'yield']\n"
     ]
    }
   ],
   "source": [
    "import keyword\n",
    "print(keyword.kwlist)"
   ]
  },
  {
   "cell_type": "markdown",
   "id": "452777cc-f4cc-4413-8772-59f851c75f44",
   "metadata": {
    "tags": []
   },
   "source": [
    "# Q.2. What are the rules to create variables in python?"
   ]
  },
  {
   "cell_type": "markdown",
   "id": "9ee09f59-d0af-4b2d-bbcf-17df3e2c02ef",
   "metadata": {},
   "source": [
    "Ans: Rules for Python variables:\n",
    "1) A variable name must start with a letter or the underscore character\n",
    "2) A variable name cannot start with a number\n",
    "3) A variable name can only contain alpha-numeric characters and underscores (A-z, 0-9, and _ )\n",
    "4) Variable names are case-sensitive (age, Age and AGE are three different variables)\n",
    "5) A variable name cannot be any of the Python keywords."
   ]
  },
  {
   "cell_type": "markdown",
   "id": "2ae68d05-c954-49c5-b471-93c9e3254ca9",
   "metadata": {},
   "source": [
    "# Q.3. What are the standards and conventions followed for the nomenclature of variables in python to improve code readability and maintainability?"
   ]
  },
  {
   "cell_type": "markdown",
   "id": "df8405db-f6ed-4c6c-8c27-77b93cce19fd",
   "metadata": {},
   "source": [
    "Ans: Use grammatically correct variable names, the class name should start with an uppercase and must follow camelCase convention If more than two words are to be used. In the same way, a function name should be joined with an underscore, and it must be lowercase."
   ]
  },
  {
   "cell_type": "markdown",
   "id": "60e351b0-54b8-463a-958e-2593c45fc577",
   "metadata": {},
   "source": [
    "# Q.4. What will happen if a keyword is used as a variable name?"
   ]
  },
  {
   "cell_type": "markdown",
   "id": "1895be40-b09d-4fa5-b7e8-a349328529e6",
   "metadata": {},
   "source": [
    "Ans: Keywords are the words in programming language which have a special meaning decided the lanuage. So we cannot use them as a variable as we cannot assign any value to them. In python keywords are case sensitive so we can use true as a variable but not TRUE."
   ]
  },
  {
   "cell_type": "markdown",
   "id": "6fa21f4b-338e-4dde-aa9b-fc2e668dc3fb",
   "metadata": {},
   "source": [
    "# Q.5. For what purpose def keyword is used?"
   ]
  },
  {
   "cell_type": "markdown",
   "id": "0af7de13-5b4f-432a-b542-a8f6afd52d51",
   "metadata": {},
   "source": [
    "Ans: Python def keyword is used to define a function, it is placed before a function name that is provided by the user to create a user-defined function. In Python, a function is a logical unit of code containing a sequence of statements indented under a name given using the “def” keyword."
   ]
  },
  {
   "cell_type": "markdown",
   "id": "45a7584e-97e7-46c6-850d-0b98fb68408c",
   "metadata": {},
   "source": [
    "# Q.6. What is the operation of this special character ‘\\’?"
   ]
  },
  {
   "cell_type": "markdown",
   "id": "b19138bb-dc46-4a5b-b61a-a435e3e61c82",
   "metadata": {},
   "source": [
    "Ans: The operation of this special character '\\' is to Separates locations in a file or network path."
   ]
  },
  {
   "cell_type": "markdown",
   "id": "803dae9c-1995-4ed7-a085-33b2dc8003cb",
   "metadata": {},
   "source": [
    "# Q.7. Give an example of the following conditions: (i) Homogeneous list, (ii) Heterogeneous set, (iii) Homogeneous tuple"
   ]
  },
  {
   "cell_type": "markdown",
   "id": "231d962a-81e3-46a6-a66e-bc36b6dc0bee",
   "metadata": {},
   "source": [
    "Ans: (1) Homogeneous list:- A list in which all the items belong to the same data type i.e. all the items are either integer or all float or all string. The lists Even and fruits are examples of the homogenous list.\n",
    "Example:-"
   ]
  },
  {
   "cell_type": "code",
   "execution_count": 1,
   "id": "a54e8131-5aff-438a-9586-9b9096f0b4c2",
   "metadata": {},
   "outputs": [
    {
     "name": "stdout",
     "output_type": "stream",
     "text": [
      "['apples', 'oranges', 'bananas', 'mangoes', 'grapes', 'strawberry']\n"
     ]
    }
   ],
   "source": [
    "fruits = ['apples','oranges','bananas','mangoes','grapes','strawberry'] \n",
    "print(fruits)"
   ]
  },
  {
   "cell_type": "markdown",
   "id": "31dc0e93-9a44-48f5-b276-6b6556b8af11",
   "metadata": {},
   "source": [
    "(2) Heterogeneous set:- Python sets can store heterogeneous elements in it, i.e., a set can store a mixture of string, integer, boolean, etc datatypes.\n",
    "Example:- "
   ]
  },
  {
   "cell_type": "code",
   "execution_count": 2,
   "id": "8279b13e-0ad0-410c-a256-5fef897064f0",
   "metadata": {},
   "outputs": [
    {
     "name": "stdout",
     "output_type": "stream",
     "text": [
      "{True, 'for', 52.7, 10, 'Geeks'}\n"
     ]
    }
   ],
   "source": [
    "myset = {\"Geeks\", \"for\", 10, 52.7, True}\n",
    "print(myset)"
   ]
  },
  {
   "cell_type": "markdown",
   "id": "7b04fd35-1df3-4652-9360-353483be0672",
   "metadata": {},
   "source": [
    "(3) Homogeneous tuple:- Tuples usually contain a heterogeneous sequence of elements, while lists usually contain a homogeneous sequence."
   ]
  },
  {
   "cell_type": "markdown",
   "id": "e700b32c-f484-4072-ac7e-45a23796f138",
   "metadata": {},
   "source": [
    "# Q.8. Explain the mutable and immutable data types with proper explanation & examples."
   ]
  },
  {
   "cell_type": "markdown",
   "id": "49d3217e-2315-4eb3-8e67-b2c80f4956e1",
   "metadata": {},
   "source": [
    "Ans: Some of the mutable data types in Python are list, dictionary, set and user-defined classes. On the other hand, some of the immutable data types are int, float, decimal, bool, string, tuple, and range."
   ]
  },
  {
   "cell_type": "markdown",
   "id": "50dfe8e0-ce9b-408d-9089-3e657554a17a",
   "metadata": {},
   "source": [
    "# Q..9. Write a code to create the given structure using only for loop."
   ]
  },
  {
   "cell_type": "raw",
   "id": "adbc6628-00e6-4946-a259-9ec26dbc91f1",
   "metadata": {},
   "source": [
    "    *\n",
    "   ***\n",
    "  *****\n",
    " *******  \n",
    "*********"
   ]
  },
  {
   "cell_type": "markdown",
   "id": "9d0d62b9-e15c-4e08-9b15-5751d1515aaa",
   "metadata": {},
   "source": [
    "Ans: Code to create the given structure using for loop as follows:"
   ]
  },
  {
   "cell_type": "code",
   "execution_count": 3,
   "id": "742840bf-6e24-4d1a-a1fb-7a96a39e2d64",
   "metadata": {},
   "outputs": [
    {
     "name": "stdout",
     "output_type": "stream",
     "text": [
      "          * \n",
      "        * * * \n",
      "      * * * * * \n",
      "    * * * * * * * \n",
      "  * * * * * * * * * \n"
     ]
    }
   ],
   "source": [
    "n = 5\n",
    "for i in range(n):\n",
    "    for j in range(i,n):\n",
    "        print(\" \",end=\" \")\n",
    "    for j in range(i):\n",
    "        print(\"*\",end=\" \")\n",
    "    for j in range(i+1):\n",
    "        print(\"*\",end=\" \")\n",
    "    print()"
   ]
  },
  {
   "cell_type": "markdown",
   "id": "0ba0f7ae-dcf0-41d8-87fe-b65e6d881810",
   "metadata": {},
   "source": [
    "# Q.10. Write a code to create the given structure using while loop."
   ]
  },
  {
   "cell_type": "raw",
   "id": "9038d7c9-063a-4cea-961c-e59e59cd7156",
   "metadata": {},
   "source": [
    "|||||||||\n",
    "|||||||\n",
    "|||||\n",
    "|||\n",
    "|"
   ]
  },
  {
   "cell_type": "markdown",
   "id": "2659f041-ac4e-443d-896b-191aeded6da9",
   "metadata": {},
   "source": [
    "Ans: Code to create the given structure using while loop as follows:"
   ]
  },
  {
   "cell_type": "code",
   "execution_count": null,
   "id": "40822102-1be0-4d17-82d9-04a8a7e80ed6",
   "metadata": {},
   "outputs": [],
   "source": []
  }
 ],
 "metadata": {
  "kernelspec": {
   "display_name": "Python 3 (ipykernel)",
   "language": "python",
   "name": "python3"
  },
  "language_info": {
   "codemirror_mode": {
    "name": "ipython",
    "version": 3
   },
   "file_extension": ".py",
   "mimetype": "text/x-python",
   "name": "python",
   "nbconvert_exporter": "python",
   "pygments_lexer": "ipython3",
   "version": "3.10.6"
  }
 },
 "nbformat": 4,
 "nbformat_minor": 5
}
